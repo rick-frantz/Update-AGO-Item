{
 "cells": [
  {
   "cell_type": "code",
   "execution_count": null,
   "metadata": {},
   "outputs": [],
   "source": [
    "from arcgis.gis import GIS\n",
    "import getpass\n",
    "from arcgis import features\n",
    "\n",
    "# Connection Variables\n",
    "Organization = \"https://dublinohio.maps.arcgis.com\"\n",
    "#Organization = input(\"What's your oranization? \")\n",
    "User = input(\"What's your  username? \")\n",
    "Password = getpass.getpass('Password: ')\n",
    "\n",
    "# Connection \n",
    "gis = GIS(Organization, User, Password)\n",
    "gis"
   ]
  },
  {
   "cell_type": "code",
   "execution_count": null,
   "metadata": {},
   "outputs": [],
   "source": [
    "# Following example here: https://developers.arcgis.com/python/sample-notebooks/overwriting-feature-layers/\n",
    "\n",
    "itemId = '18a7a191b8a84efc93e37c71a1084fcb' #Feature Collection (published)\n",
    "# itemId = '2b34090c8ac24b8ea67bd25a588eb9f6' #Feature Collection\n",
    "Vols =gis.content.get(itemId)\n",
    "Vols"
   ]
  },
  {
   "cell_type": "code",
   "execution_count": null,
   "metadata": {},
   "outputs": [],
   "source": [
    "# Parameters\n",
    "import ntpath,os\n",
    "data2AGO = 'C:\\\\Users\\\\franrt\\\\Downloads\\\\rubbish.csv' # the full file path to the data csv\n",
    "itemType = 'CSV'\n",
    "itemTitle,ext=os.path.splitext(os.path.basename(data2AGO)) # gets the file name without path or extension\n",
    "if ext[1:].upper() != itemType: # Check to see if the provided file extension matches the search limiter\n",
    "    print(\"There may be a file mismatch.\") \n",
    "\n",
    "# *if you change the itemType away from CSV it may require testing. Most data sources would\n",
    "# presumably follow the same upload, publish pattern (shapefiles, file gdb, etc) but some \n",
    "# may not or publish automatically."
   ]
  },
  {
   "cell_type": "code",
   "execution_count": null,
   "metadata": {},
   "outputs": [],
   "source": [
    "# Run this section to create and/or update the data\n",
    "\n",
    "# Check if the data already exists\n",
    "already = gis.content.search(query=itemTitle, item_type=itemType, max_items = 10)\n",
    "if already:\n",
    "    for i in already:\n",
    "        if i.title == itemTitle:\n",
    "            print(\"Found it. We will need to run the update process.\")\n",
    "            # need to build checks for if there is a service with same name etc\n",
    "else:\n",
    "    print(\"We will do the initial publish.\")\n",
    "    item_prop = {'title':itemTitle}\n",
    "    newItem = gis.content.add(item_properties=item_prop, data=data2AGO)\n",
    "    pubitem = newItem.publish()\n",
    "    print(pubitem.url)\n",
    "    alldone = pubitem\n",
    "    \n",
    "print(\"All done.\")\n",
    "alldone"
   ]
  },
  {
   "cell_type": "code",
   "execution_count": null,
   "metadata": {
    "scrolled": true
   },
   "outputs": [],
   "source": [
    "# Testing entire process\n",
    "\n",
    "vol_csv = 'C:\\\\Users\\\\franrt\\\\Downloads\\\\Test.csv'\n",
    "item_prop = {'title':'Test'}\n",
    "Vols = gis.content.add(item_properties=item_prop, data=data2AGO)\n",
    "Vols\n",
    "\n"
   ]
  },
  {
   "cell_type": "code",
   "execution_count": null,
   "metadata": {},
   "outputs": [],
   "source": [
    "# publish the csv item into a feature layer\n",
    "Vols_item = Vols.publish()\n",
    "Vols_item"
   ]
  },
  {
   "cell_type": "code",
   "execution_count": null,
   "metadata": {},
   "outputs": [],
   "source": [
    "Vols_item.url"
   ]
  },
  {
   "cell_type": "code",
   "execution_count": null,
   "metadata": {
    "scrolled": true
   },
   "outputs": [],
   "source": [
    "#vol_csv = 'C:\\\\Users\\\\franrt\\\\Downloads\\\\Test.csv'\n",
    "#from arcgis.features import FeatureLayerCollection\n",
    "#Vols_collection = FeatureLayerCollection.fromitem(Vols_item)\n",
    "Vols_collection.manager.overwrite(vol_csv)\n",
    "Vols_item\n"
   ]
  },
  {
   "cell_type": "code",
   "execution_count": null,
   "metadata": {},
   "outputs": [],
   "source": []
  }
 ],
 "metadata": {
  "kernelspec": {
   "display_name": "Python 3",
   "language": "python",
   "name": "python3"
  },
  "language_info": {
   "codemirror_mode": {
    "name": "ipython",
    "version": 3
   },
   "file_extension": ".py",
   "mimetype": "text/x-python",
   "name": "python",
   "nbconvert_exporter": "python",
   "pygments_lexer": "ipython3",
   "version": "3.6.9"
  }
 },
 "nbformat": 4,
 "nbformat_minor": 2
}
