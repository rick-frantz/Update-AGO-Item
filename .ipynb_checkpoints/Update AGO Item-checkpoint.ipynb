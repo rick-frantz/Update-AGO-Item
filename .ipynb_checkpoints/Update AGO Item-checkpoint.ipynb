{
 "cells": [
  {
   "cell_type": "markdown",
   "metadata": {},
   "source": [
    "# Publish or Update a raw data source to AGO"
   ]
  },
  {
   "cell_type": "code",
   "execution_count": null,
   "metadata": {},
   "outputs": [],
   "source": [
    "# This notebook will input a raw data source and publish to ArcGIS Online.\n",
    "# If that data source has already been published, it will update the data.\n",
    "# There are limitations, the original and new data sources must have the \n",
    "# same filename and schema.\n",
    "# See here for the Esri example: https://developers.arcgis.com/python/sample-notebooks/overwriting-feature-layers/\n",
    "\n",
    "# Let's connect to your AGO organization\n",
    "from arcgis.gis import GIS\n",
    "import getpass\n",
    "from arcgis import features\n",
    "\n",
    "# Connection Variables\n",
    "Organization = \"https://dublinohio.maps.arcgis.com\"\n",
    "#Organization = input(\"What's your oranization? \")\n",
    "User = input(\"What's your  username? \")\n",
    "Password = getpass.getpass('Password: ')\n",
    "\n",
    "# Connection \n",
    "gis = GIS(Organization, User, Password)\n",
    "gis"
   ]
  },
  {
   "cell_type": "code",
   "execution_count": null,
   "metadata": {},
   "outputs": [],
   "source": [
    "# Parameters\n",
    "import ntpath,os\n",
    "data2AGO = 'C:\\\\Users\\\\franrt\\\\Downloads\\\\rubbish.csv' # the full file path to the data csv\n",
    "itemType = 'CSV'\n",
    "itemTitle,ext=os.path.splitext(os.path.basename(data2AGO)) # gets the file name without path or extension\n",
    "if ext[1:].upper() != itemType: # Check to see if the provided file extension matches the search limiter\n",
    "    print(\"There may be a file mismatch.\") \n",
    "\n",
    "# *if you change the itemType away from CSV it may require testing. Most data sources would\n",
    "# presumably follow the same upload, publish pattern (shapefiles, file gdb, etc) but some \n",
    "# may not or publish automatically."
   ]
  },
  {
   "cell_type": "code",
   "execution_count": null,
   "metadata": {},
   "outputs": [],
   "source": [
    "# Run this section to create and/or update the data\n",
    "\n",
    "# Check if the data already exists\n",
    "already = gis.content.search(query=itemTitle, item_type=itemType, max_items = 10)\n",
    "if already:\n",
    "    for i in already:\n",
    "        if i.title == itemTitle:\n",
    "            print(\"Found it. We will need to run the update process.\")\n",
    "            test2 = gis.content.search(query=itemTitle, item_type='Feature Layer Collection', max_items = 10)\n",
    "            for a in test2:\n",
    "                if a.title == itemTitle:\n",
    "                    print(a.title, \"will need to be updated.\")\n",
    "                    print(a.url)\n",
    "                    # let's start the update process\n",
    "                    from arcgis.features import FeatureLayerCollection\n",
    "                    fl_collection = FeatureLayerCollection.fromitem(a)\n",
    "                    fl_collection.manager.overwrite(data2AGO)\n",
    "                    alldone=a\n",
    "                    break\n",
    "                else:\n",
    "                    print(\"You're not it\",a.title)\n",
    "        break\n",
    "else:\n",
    "    print(\"We will do the initial publish.\")\n",
    "    item_prop = {'title':itemTitle}\n",
    "    newItem = gis.content.add(item_properties=item_prop, data=data2AGO)\n",
    "    pubitem = newItem.publish()\n",
    "    print(pubitem.url)\n",
    "    alldone = pubitem\n",
    "    \n",
    "print(\"All done.\")\n",
    "alldone"
   ]
  },
  {
   "cell_type": "code",
   "execution_count": null,
   "metadata": {},
   "outputs": [],
   "source": []
  }
 ],
 "metadata": {
  "kernelspec": {
   "display_name": "Python 3",
   "language": "python",
   "name": "python3"
  },
  "language_info": {
   "codemirror_mode": {
    "name": "ipython",
    "version": 3
   },
   "file_extension": ".py",
   "mimetype": "text/x-python",
   "name": "python",
   "nbconvert_exporter": "python",
   "pygments_lexer": "ipython3",
   "version": "3.6.9"
  }
 },
 "nbformat": 4,
 "nbformat_minor": 2
}
